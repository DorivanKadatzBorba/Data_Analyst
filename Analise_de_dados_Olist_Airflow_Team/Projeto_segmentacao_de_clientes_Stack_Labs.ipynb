{
 "cells": [
  {
   "cell_type": "code",
   "execution_count": 1,
   "metadata": {},
   "outputs": [
    {
     "data": {
      "text/plain": [
       "<Figure size 432x864 with 0 Axes>"
      ]
     },
     "metadata": {},
     "output_type": "display_data"
    }
   ],
   "source": [
    "#imports\n",
    "import pandas as pd\n",
    "import pyodbc\n",
    "import numpy as np\n",
    "import seaborn as sns\n",
    "import matplotlib.pyplot as plt\n",
    "%matplotlib inline\n",
    "plt.figure(figsize=(6, 12))\n",
    "from sklearn.preprocessing import RobustScaler\n",
    "from sklearn.cluster import KMeans"
   ]
  },
  {
   "cell_type": "code",
   "execution_count": 2,
   "metadata": {},
   "outputs": [],
   "source": [
    "#conexao\n",
    "def conexao_sql_server():\n",
    "    server = 'LAPTOP-TA7HV3O7\\SQLEXPRESS'\n",
    "    database = 'olist'\n",
    "    username = 'sa'\n",
    "    password = 'Pazeamor10'\n",
    "    string_conexao = 'Driver={SQL Server Native Client 11.0};Server='+server+';Database='+database+';UID='+username+';PWD='+password\n",
    "    conexao = pyodbc.connect(string_conexao)\n",
    "    return conexao\n",
    "\n",
    "#conexao\n",
    "conn = conexao_sql_server()"
   ]
  },
  {
   "cell_type": "code",
   "execution_count": 3,
   "metadata": {},
   "outputs": [],
   "source": [
    "#query\n",
    "query = '''\n",
    "select \n",
    "    tb2.[\"seller_id\"] as [id_vendedor],\n",
    "    datediff(day, min(tb1.[\"order_approved_at\"]), '2018-09-03') as [idade_base_dias],\n",
    "    avg(cast(tb3.[review_score] as numeric)) as [avaliacao_media],\n",
    "    count(distinct(tb2.[\"order_id\"])) as [qtd_pedidos],\n",
    "    count(tb2.[\"product_id\"]) as [qtd_produtos],\n",
    "    cast(count(tb2.[\"product_id\"]) as numeric) / count(distinct(tb2.[\"order_id\"])) as [media_produtos_por_pedido],\n",
    "    sum(cast(tb2.[\"price\"] as numeric)) as [receita_total],\n",
    "    sum(cast(tb2.[\"price\"] as numeric)) / count(distinct(tb2.[\"order_id\"])) as  [media_valor_pedido_sem_frete],\n",
    "    (sum(cast(tb2.[\"price\"] as numeric)) + sum(cast(tb2.[\"freight_value\"] as numeric))) / count(distinct(tb2.[\"order_id\"])) as  [media_valor_pedido_com_frete],\n",
    "    sum(cast(tb2.[\"freight_value\"] as numeric)) / count(distinct(tb2.[\"order_id\"])) as  [media_valor_frete],\n",
    "    (convert(decimal(5,1),sum(case when tb1.[\"order_delivered_customer_date\"] > tb1.[\"order_estimated_delivery_date\"] then 1 else 0 end)))/count(tb2.[\"seller_id\"]) as [prop_pedidos_atrasados],\n",
    "    datediff(day, max(tb1.[\"order_approved_at\"]), '2018-09-03') as [dias_sem_vender],\n",
    "    avg(datediff(day, (tb1.[\"order_delivered_carrier_date\"]), tb2.[\"shipping_limit_date\"])) as [tempo_de_postagem],\n",
    "    cast(count(distinct(tb2.[\"order_id\"])) as numeric) / (datediff(day, min(tb1.[\"order_approved_at\"]), '2018-09-03')) as [vendas_por_dia],\n",
    "    count(distinct(tb2.[\"order_id\"])) / (datediff(month, min(tb1.[\"order_approved_at\"]), '2018-09-03')) as [vendas_por_mes]\n",
    "    from olist_orders_dataset tb1\n",
    "\n",
    "    left join olist_order_items_dataset tb2 \n",
    "    on tb1.[\"order_id\"] = tb2.[\"order_id\"] \n",
    "\n",
    "    left join olist_order_reviews_dataset tb3\n",
    "    on tb1.[\"order_id\"] = tb3.[order_id]\n",
    "    \n",
    "    where tb1.[\"order_status\"] = 'delivered' and tb1.[\"order_approved_at\"] > '2017-09-03'\n",
    "    group by tb2.[\"seller_id\"]\n",
    "'''   "
   ]
  },
  {
   "cell_type": "code",
   "execution_count": 4,
   "metadata": {},
   "outputs": [],
   "source": [
    "#query to df\n",
    "vendedores = pd.read_sql(query, conn)"
   ]
  },
  {
   "cell_type": "code",
   "execution_count": 5,
   "metadata": {},
   "outputs": [
    {
     "data": {
      "text/html": [
       "<div>\n",
       "<style scoped>\n",
       "    .dataframe tbody tr th:only-of-type {\n",
       "        vertical-align: middle;\n",
       "    }\n",
       "\n",
       "    .dataframe tbody tr th {\n",
       "        vertical-align: top;\n",
       "    }\n",
       "\n",
       "    .dataframe thead th {\n",
       "        text-align: right;\n",
       "    }\n",
       "</style>\n",
       "<table border=\"1\" class=\"dataframe\">\n",
       "  <thead>\n",
       "    <tr style=\"text-align: right;\">\n",
       "      <th></th>\n",
       "      <th>id_vendedor</th>\n",
       "      <th>idade_base_dias</th>\n",
       "      <th>avaliacao_media</th>\n",
       "      <th>qtd_pedidos</th>\n",
       "      <th>qtd_produtos</th>\n",
       "      <th>media_produtos_por_pedido</th>\n",
       "      <th>receita_total</th>\n",
       "      <th>media_valor_pedido_sem_frete</th>\n",
       "      <th>media_valor_pedido_com_frete</th>\n",
       "      <th>media_valor_frete</th>\n",
       "      <th>prop_pedidos_atrasados</th>\n",
       "      <th>dias_sem_vender</th>\n",
       "      <th>tempo_de_postagem</th>\n",
       "      <th>vendas_por_dia</th>\n",
       "      <th>vendas_por_mes</th>\n",
       "    </tr>\n",
       "  </thead>\n",
       "  <tbody>\n",
       "    <tr>\n",
       "      <th>0</th>\n",
       "      <td>\"9c4d31c7e46ab03a43fc06e3142afd4e\"</td>\n",
       "      <td>20</td>\n",
       "      <td>4.000000</td>\n",
       "      <td>2</td>\n",
       "      <td>2</td>\n",
       "      <td>1.000000</td>\n",
       "      <td>1219.0</td>\n",
       "      <td>609.500000</td>\n",
       "      <td>631.500000</td>\n",
       "      <td>22.000000</td>\n",
       "      <td>0.000000</td>\n",
       "      <td>14</td>\n",
       "      <td>2</td>\n",
       "      <td>0.100000</td>\n",
       "      <td>2</td>\n",
       "    </tr>\n",
       "    <tr>\n",
       "      <th>1</th>\n",
       "      <td>e3a386fc36e22064434e1fa256f6a9fa</td>\n",
       "      <td>222</td>\n",
       "      <td>4.250000</td>\n",
       "      <td>16</td>\n",
       "      <td>17</td>\n",
       "      <td>1.062500</td>\n",
       "      <td>791.0</td>\n",
       "      <td>49.437500</td>\n",
       "      <td>65.187500</td>\n",
       "      <td>15.750000</td>\n",
       "      <td>0.176471</td>\n",
       "      <td>18</td>\n",
       "      <td>2</td>\n",
       "      <td>0.072072</td>\n",
       "      <td>2</td>\n",
       "    </tr>\n",
       "    <tr>\n",
       "      <th>2</th>\n",
       "      <td>\"0aa2205ca24f113f4658a5c536667426\"</td>\n",
       "      <td>137</td>\n",
       "      <td>5.000000</td>\n",
       "      <td>4</td>\n",
       "      <td>11</td>\n",
       "      <td>2.750000</td>\n",
       "      <td>816.0</td>\n",
       "      <td>204.000000</td>\n",
       "      <td>246.750000</td>\n",
       "      <td>42.750000</td>\n",
       "      <td>0.000000</td>\n",
       "      <td>20</td>\n",
       "      <td>6</td>\n",
       "      <td>0.029197</td>\n",
       "      <td>0</td>\n",
       "    </tr>\n",
       "    <tr>\n",
       "      <th>3</th>\n",
       "      <td>\"640e21a7d01df7614a3b4923e990d40c\"</td>\n",
       "      <td>170</td>\n",
       "      <td>3.982758</td>\n",
       "      <td>115</td>\n",
       "      <td>136</td>\n",
       "      <td>1.182609</td>\n",
       "      <td>7529.0</td>\n",
       "      <td>65.469565</td>\n",
       "      <td>86.704347</td>\n",
       "      <td>21.234782</td>\n",
       "      <td>0.066176</td>\n",
       "      <td>9</td>\n",
       "      <td>2</td>\n",
       "      <td>0.676471</td>\n",
       "      <td>19</td>\n",
       "    </tr>\n",
       "    <tr>\n",
       "      <th>4</th>\n",
       "      <td>\"2156f2671501a81034d7d07f217609d0\"</td>\n",
       "      <td>357</td>\n",
       "      <td>3.800000</td>\n",
       "      <td>20</td>\n",
       "      <td>20</td>\n",
       "      <td>1.000000</td>\n",
       "      <td>2861.0</td>\n",
       "      <td>143.050000</td>\n",
       "      <td>161.750000</td>\n",
       "      <td>18.700000</td>\n",
       "      <td>0.150000</td>\n",
       "      <td>38</td>\n",
       "      <td>3</td>\n",
       "      <td>0.056022</td>\n",
       "      <td>1</td>\n",
       "    </tr>\n",
       "  </tbody>\n",
       "</table>\n",
       "</div>"
      ],
      "text/plain": [
       "                          id_vendedor  idade_base_dias  avaliacao_media  \\\n",
       "0  \"9c4d31c7e46ab03a43fc06e3142afd4e\"               20         4.000000   \n",
       "1    e3a386fc36e22064434e1fa256f6a9fa              222         4.250000   \n",
       "2  \"0aa2205ca24f113f4658a5c536667426\"              137         5.000000   \n",
       "3  \"640e21a7d01df7614a3b4923e990d40c\"              170         3.982758   \n",
       "4  \"2156f2671501a81034d7d07f217609d0\"              357         3.800000   \n",
       "\n",
       "   qtd_pedidos  qtd_produtos  media_produtos_por_pedido  receita_total  \\\n",
       "0            2             2                   1.000000         1219.0   \n",
       "1           16            17                   1.062500          791.0   \n",
       "2            4            11                   2.750000          816.0   \n",
       "3          115           136                   1.182609         7529.0   \n",
       "4           20            20                   1.000000         2861.0   \n",
       "\n",
       "   media_valor_pedido_sem_frete  media_valor_pedido_com_frete  \\\n",
       "0                    609.500000                    631.500000   \n",
       "1                     49.437500                     65.187500   \n",
       "2                    204.000000                    246.750000   \n",
       "3                     65.469565                     86.704347   \n",
       "4                    143.050000                    161.750000   \n",
       "\n",
       "   media_valor_frete  prop_pedidos_atrasados  dias_sem_vender  \\\n",
       "0          22.000000                0.000000               14   \n",
       "1          15.750000                0.176471               18   \n",
       "2          42.750000                0.000000               20   \n",
       "3          21.234782                0.066176                9   \n",
       "4          18.700000                0.150000               38   \n",
       "\n",
       "   tempo_de_postagem  vendas_por_dia  vendas_por_mes  \n",
       "0                  2        0.100000               2  \n",
       "1                  2        0.072072               2  \n",
       "2                  6        0.029197               0  \n",
       "3                  2        0.676471              19  \n",
       "4                  3        0.056022               1  "
      ]
     },
     "execution_count": 5,
     "metadata": {},
     "output_type": "execute_result"
    }
   ],
   "source": [
    "vendedores.head()"
   ]
  },
  {
   "cell_type": "code",
   "execution_count": 6,
   "metadata": {},
   "outputs": [
    {
     "name": "stdout",
     "output_type": "stream",
     "text": [
      "<class 'pandas.core.frame.DataFrame'>\n",
      "RangeIndex: 2609 entries, 0 to 2608\n",
      "Data columns (total 15 columns):\n",
      " #   Column                        Non-Null Count  Dtype  \n",
      "---  ------                        --------------  -----  \n",
      " 0   id_vendedor                   2609 non-null   object \n",
      " 1   idade_base_dias               2609 non-null   int64  \n",
      " 2   avaliacao_media               2149 non-null   float64\n",
      " 3   qtd_pedidos                   2609 non-null   int64  \n",
      " 4   qtd_produtos                  2609 non-null   int64  \n",
      " 5   media_produtos_por_pedido     2609 non-null   float64\n",
      " 6   receita_total                 2609 non-null   float64\n",
      " 7   media_valor_pedido_sem_frete  2609 non-null   float64\n",
      " 8   media_valor_pedido_com_frete  2609 non-null   float64\n",
      " 9   media_valor_frete             2609 non-null   float64\n",
      " 10  prop_pedidos_atrasados        2609 non-null   float64\n",
      " 11  dias_sem_vender               2609 non-null   int64  \n",
      " 12  tempo_de_postagem             2609 non-null   int64  \n",
      " 13  vendas_por_dia                2609 non-null   float64\n",
      " 14  vendas_por_mes                2609 non-null   int64  \n",
      "dtypes: float64(8), int64(6), object(1)\n",
      "memory usage: 305.9+ KB\n"
     ]
    }
   ],
   "source": [
    "#data types\n",
    "vendedores.info()"
   ]
  },
  {
   "cell_type": "code",
   "execution_count": 7,
   "metadata": {},
   "outputs": [],
   "source": [
    "#rounding float64 columns\n",
    "float_columns = list(vendedores.select_dtypes(include='float64').columns)\n",
    "vendedores[float_columns] = np.round(vendedores[float_columns], decimals = 2)"
   ]
  },
  {
   "cell_type": "code",
   "execution_count": 8,
   "metadata": {},
   "outputs": [
    {
     "data": {
      "text/html": [
       "<div>\n",
       "<style scoped>\n",
       "    .dataframe tbody tr th:only-of-type {\n",
       "        vertical-align: middle;\n",
       "    }\n",
       "\n",
       "    .dataframe tbody tr th {\n",
       "        vertical-align: top;\n",
       "    }\n",
       "\n",
       "    .dataframe thead th {\n",
       "        text-align: right;\n",
       "    }\n",
       "</style>\n",
       "<table border=\"1\" class=\"dataframe\">\n",
       "  <thead>\n",
       "    <tr style=\"text-align: right;\">\n",
       "      <th></th>\n",
       "      <th>id_vendedor</th>\n",
       "      <th>idade_base_dias</th>\n",
       "      <th>avaliacao_media</th>\n",
       "      <th>qtd_pedidos</th>\n",
       "      <th>qtd_produtos</th>\n",
       "      <th>media_produtos_por_pedido</th>\n",
       "      <th>receita_total</th>\n",
       "      <th>media_valor_pedido_sem_frete</th>\n",
       "      <th>media_valor_pedido_com_frete</th>\n",
       "      <th>media_valor_frete</th>\n",
       "      <th>prop_pedidos_atrasados</th>\n",
       "      <th>dias_sem_vender</th>\n",
       "      <th>tempo_de_postagem</th>\n",
       "      <th>vendas_por_dia</th>\n",
       "      <th>vendas_por_mes</th>\n",
       "    </tr>\n",
       "  </thead>\n",
       "  <tbody>\n",
       "    <tr>\n",
       "      <th>0</th>\n",
       "      <td>\"9c4d31c7e46ab03a43fc06e3142afd4e\"</td>\n",
       "      <td>20</td>\n",
       "      <td>4.00</td>\n",
       "      <td>2</td>\n",
       "      <td>2</td>\n",
       "      <td>1.00</td>\n",
       "      <td>1219.0</td>\n",
       "      <td>609.50</td>\n",
       "      <td>631.50</td>\n",
       "      <td>22.00</td>\n",
       "      <td>0.00</td>\n",
       "      <td>14</td>\n",
       "      <td>2</td>\n",
       "      <td>0.10</td>\n",
       "      <td>2</td>\n",
       "    </tr>\n",
       "    <tr>\n",
       "      <th>1</th>\n",
       "      <td>e3a386fc36e22064434e1fa256f6a9fa</td>\n",
       "      <td>222</td>\n",
       "      <td>4.25</td>\n",
       "      <td>16</td>\n",
       "      <td>17</td>\n",
       "      <td>1.06</td>\n",
       "      <td>791.0</td>\n",
       "      <td>49.44</td>\n",
       "      <td>65.19</td>\n",
       "      <td>15.75</td>\n",
       "      <td>0.18</td>\n",
       "      <td>18</td>\n",
       "      <td>2</td>\n",
       "      <td>0.07</td>\n",
       "      <td>2</td>\n",
       "    </tr>\n",
       "    <tr>\n",
       "      <th>2</th>\n",
       "      <td>\"0aa2205ca24f113f4658a5c536667426\"</td>\n",
       "      <td>137</td>\n",
       "      <td>5.00</td>\n",
       "      <td>4</td>\n",
       "      <td>11</td>\n",
       "      <td>2.75</td>\n",
       "      <td>816.0</td>\n",
       "      <td>204.00</td>\n",
       "      <td>246.75</td>\n",
       "      <td>42.75</td>\n",
       "      <td>0.00</td>\n",
       "      <td>20</td>\n",
       "      <td>6</td>\n",
       "      <td>0.03</td>\n",
       "      <td>0</td>\n",
       "    </tr>\n",
       "    <tr>\n",
       "      <th>3</th>\n",
       "      <td>\"640e21a7d01df7614a3b4923e990d40c\"</td>\n",
       "      <td>170</td>\n",
       "      <td>3.98</td>\n",
       "      <td>115</td>\n",
       "      <td>136</td>\n",
       "      <td>1.18</td>\n",
       "      <td>7529.0</td>\n",
       "      <td>65.47</td>\n",
       "      <td>86.70</td>\n",
       "      <td>21.23</td>\n",
       "      <td>0.07</td>\n",
       "      <td>9</td>\n",
       "      <td>2</td>\n",
       "      <td>0.68</td>\n",
       "      <td>19</td>\n",
       "    </tr>\n",
       "    <tr>\n",
       "      <th>4</th>\n",
       "      <td>\"2156f2671501a81034d7d07f217609d0\"</td>\n",
       "      <td>357</td>\n",
       "      <td>3.80</td>\n",
       "      <td>20</td>\n",
       "      <td>20</td>\n",
       "      <td>1.00</td>\n",
       "      <td>2861.0</td>\n",
       "      <td>143.05</td>\n",
       "      <td>161.75</td>\n",
       "      <td>18.70</td>\n",
       "      <td>0.15</td>\n",
       "      <td>38</td>\n",
       "      <td>3</td>\n",
       "      <td>0.06</td>\n",
       "      <td>1</td>\n",
       "    </tr>\n",
       "  </tbody>\n",
       "</table>\n",
       "</div>"
      ],
      "text/plain": [
       "                          id_vendedor  idade_base_dias  avaliacao_media  \\\n",
       "0  \"9c4d31c7e46ab03a43fc06e3142afd4e\"               20             4.00   \n",
       "1    e3a386fc36e22064434e1fa256f6a9fa              222             4.25   \n",
       "2  \"0aa2205ca24f113f4658a5c536667426\"              137             5.00   \n",
       "3  \"640e21a7d01df7614a3b4923e990d40c\"              170             3.98   \n",
       "4  \"2156f2671501a81034d7d07f217609d0\"              357             3.80   \n",
       "\n",
       "   qtd_pedidos  qtd_produtos  media_produtos_por_pedido  receita_total  \\\n",
       "0            2             2                       1.00         1219.0   \n",
       "1           16            17                       1.06          791.0   \n",
       "2            4            11                       2.75          816.0   \n",
       "3          115           136                       1.18         7529.0   \n",
       "4           20            20                       1.00         2861.0   \n",
       "\n",
       "   media_valor_pedido_sem_frete  media_valor_pedido_com_frete  \\\n",
       "0                        609.50                        631.50   \n",
       "1                         49.44                         65.19   \n",
       "2                        204.00                        246.75   \n",
       "3                         65.47                         86.70   \n",
       "4                        143.05                        161.75   \n",
       "\n",
       "   media_valor_frete  prop_pedidos_atrasados  dias_sem_vender  \\\n",
       "0              22.00                    0.00               14   \n",
       "1              15.75                    0.18               18   \n",
       "2              42.75                    0.00               20   \n",
       "3              21.23                    0.07                9   \n",
       "4              18.70                    0.15               38   \n",
       "\n",
       "   tempo_de_postagem  vendas_por_dia  vendas_por_mes  \n",
       "0                  2            0.10               2  \n",
       "1                  2            0.07               2  \n",
       "2                  6            0.03               0  \n",
       "3                  2            0.68              19  \n",
       "4                  3            0.06               1  "
      ]
     },
     "execution_count": 8,
     "metadata": {},
     "output_type": "execute_result"
    }
   ],
   "source": [
    "vendedores.head()"
   ]
  },
  {
   "cell_type": "code",
   "execution_count": 9,
   "metadata": {},
   "outputs": [],
   "source": [
    "rfm_data = vendedores[['id_vendedor','dias_sem_vender','vendas_por_dia','receita_total']]"
   ]
  },
  {
   "cell_type": "code",
   "execution_count": 10,
   "metadata": {},
   "outputs": [
    {
     "data": {
      "text/html": [
       "<div>\n",
       "<style scoped>\n",
       "    .dataframe tbody tr th:only-of-type {\n",
       "        vertical-align: middle;\n",
       "    }\n",
       "\n",
       "    .dataframe tbody tr th {\n",
       "        vertical-align: top;\n",
       "    }\n",
       "\n",
       "    .dataframe thead th {\n",
       "        text-align: right;\n",
       "    }\n",
       "</style>\n",
       "<table border=\"1\" class=\"dataframe\">\n",
       "  <thead>\n",
       "    <tr style=\"text-align: right;\">\n",
       "      <th></th>\n",
       "      <th>id_vendedor</th>\n",
       "      <th>dias_sem_vender</th>\n",
       "      <th>vendas_por_dia</th>\n",
       "      <th>receita_total</th>\n",
       "    </tr>\n",
       "  </thead>\n",
       "  <tbody>\n",
       "    <tr>\n",
       "      <th>0</th>\n",
       "      <td>\"9c4d31c7e46ab03a43fc06e3142afd4e\"</td>\n",
       "      <td>14</td>\n",
       "      <td>0.10</td>\n",
       "      <td>1219.0</td>\n",
       "    </tr>\n",
       "    <tr>\n",
       "      <th>1</th>\n",
       "      <td>e3a386fc36e22064434e1fa256f6a9fa</td>\n",
       "      <td>18</td>\n",
       "      <td>0.07</td>\n",
       "      <td>791.0</td>\n",
       "    </tr>\n",
       "    <tr>\n",
       "      <th>2</th>\n",
       "      <td>\"0aa2205ca24f113f4658a5c536667426\"</td>\n",
       "      <td>20</td>\n",
       "      <td>0.03</td>\n",
       "      <td>816.0</td>\n",
       "    </tr>\n",
       "    <tr>\n",
       "      <th>3</th>\n",
       "      <td>\"640e21a7d01df7614a3b4923e990d40c\"</td>\n",
       "      <td>9</td>\n",
       "      <td>0.68</td>\n",
       "      <td>7529.0</td>\n",
       "    </tr>\n",
       "    <tr>\n",
       "      <th>4</th>\n",
       "      <td>\"2156f2671501a81034d7d07f217609d0\"</td>\n",
       "      <td>38</td>\n",
       "      <td>0.06</td>\n",
       "      <td>2861.0</td>\n",
       "    </tr>\n",
       "  </tbody>\n",
       "</table>\n",
       "</div>"
      ],
      "text/plain": [
       "                          id_vendedor  dias_sem_vender  vendas_por_dia  \\\n",
       "0  \"9c4d31c7e46ab03a43fc06e3142afd4e\"               14            0.10   \n",
       "1    e3a386fc36e22064434e1fa256f6a9fa               18            0.07   \n",
       "2  \"0aa2205ca24f113f4658a5c536667426\"               20            0.03   \n",
       "3  \"640e21a7d01df7614a3b4923e990d40c\"                9            0.68   \n",
       "4  \"2156f2671501a81034d7d07f217609d0\"               38            0.06   \n",
       "\n",
       "   receita_total  \n",
       "0         1219.0  \n",
       "1          791.0  \n",
       "2          816.0  \n",
       "3         7529.0  \n",
       "4         2861.0  "
      ]
     },
     "execution_count": 10,
     "metadata": {},
     "output_type": "execute_result"
    }
   ],
   "source": [
    "rfm_data.head()"
   ]
  },
  {
   "cell_type": "code",
   "execution_count": 11,
   "metadata": {},
   "outputs": [
    {
     "data": {
      "text/plain": [
       "id_vendedor        0\n",
       "dias_sem_vender    0\n",
       "vendas_por_dia     0\n",
       "receita_total      0\n",
       "dtype: int64"
      ]
     },
     "execution_count": 11,
     "metadata": {},
     "output_type": "execute_result"
    }
   ],
   "source": [
    "rfm_data.isnull().sum()"
   ]
  },
  {
   "cell_type": "code",
   "execution_count": 12,
   "metadata": {},
   "outputs": [
    {
     "data": {
      "text/plain": [
       "<AxesSubplot:xlabel='dias_sem_vender'>"
      ]
     },
     "execution_count": 12,
     "metadata": {},
     "output_type": "execute_result"
    },
    {
     "data": {
      "image/png": "[encoded data removed]",
      "text/plain": [
       "<Figure size 432x288 with 1 Axes>"
      ]
     },
     "metadata": {
      "needs_background": "light"
     },
     "output_type": "display_data"
    }
   ],
   "source": [
    "sns.boxplot(x=rfm_data['dias_sem_vender'])"
   ]
  },
  {
   "cell_type": "code",
   "execution_count": 13,
   "metadata": {},
   "outputs": [
    {
     "data": {
      "text/plain": [
       "<seaborn.axisgrid.FacetGrid at 0x1d30a8451f0>"
      ]
     },
     "execution_count": 13,
     "metadata": {},
     "output_type": "execute_result"
    },
    {
     "data": {
      "image/png": "[encoded data removed]",
      "text/plain": [
       "<Figure size 360x360 with 1 Axes>"
      ]
     },
     "metadata": {
      "needs_background": "light"
     },
     "output_type": "display_data"
    }
   ],
   "source": [
    "sns.displot(rfm_data['dias_sem_vender'])"
   ]
  },
  {
   "cell_type": "code",
   "execution_count": 14,
   "metadata": {},
   "outputs": [
    {
     "data": {
      "text/plain": [
       "<AxesSubplot:xlabel='vendas_por_dia'>"
      ]
     },
     "execution_count": 14,
     "metadata": {},
     "output_type": "execute_result"
    },
    {
     "data": {
      "image/png": "[encoded data removed]",
      "text/plain": [
       "<Figure size 432x288 with 1 Axes>"
      ]
     },
     "metadata": {
      "needs_background": "light"
     },
     "output_type": "display_data"
    }
   ],
   "source": [
    "sns.boxplot(x=rfm_data['vendas_por_dia'])"
   ]
  },
  {
   "cell_type": "code",
   "execution_count": 15,
   "metadata": {},
   "outputs": [
    {
     "data": {
      "text/plain": [
       "<seaborn.axisgrid.FacetGrid at 0x1d30a93fee0>"
      ]
     },
     "execution_count": 15,
     "metadata": {},
     "output_type": "execute_result"
    },
    {
     "data": {
      "image/png": "[encoded data removed]",
      "text/plain": [
       "<Figure size 360x360 with 1 Axes>"
      ]
     },
     "metadata": {
      "needs_background": "light"
     },
     "output_type": "display_data"
    }
   ],
   "source": [
    "sns.displot(rfm_data['vendas_por_dia'])"
   ]
  },
  {
   "cell_type": "code",
   "execution_count": 16,
   "metadata": {},
   "outputs": [
    {
     "data": {
      "text/plain": [
       "<AxesSubplot:xlabel='receita_total'>"
      ]
     },
     "execution_count": 16,
     "metadata": {},
     "output_type": "execute_result"
    },
    {
     "data": {
      "image/png": "[encoded data removed]",
      "text/plain": [
       "<Figure size 432x288 with 1 Axes>"
      ]
     },
     "metadata": {
      "needs_background": "light"
     },
     "output_type": "display_data"
    }
   ],
   "source": [
    "sns.boxplot(x=vendedores['receita_total'])"
   ]
  },
  {
   "cell_type": "code",
   "execution_count": 17,
   "metadata": {},
   "outputs": [
    {
     "data": {
      "image/png": "[encoded data removed]",
      "text/plain": [
       "<Figure size 720x360 with 1 Axes>"
      ]
     },
     "metadata": {
      "needs_background": "light"
     },
     "output_type": "display_data"
    }
   ],
   "source": [
    "sns.displot(vendedores['receita_total'])\n",
    "plt.gcf().set_size_inches(10, 5) # alterar tamanho"
   ]
  },
  {
   "cell_type": "code",
   "execution_count": 18,
   "metadata": {},
   "outputs": [],
   "source": [
    "scaler = RobustScaler()"
   ]
  },
  {
   "cell_type": "code",
   "execution_count": 19,
   "metadata": {},
   "outputs": [],
   "source": [
    "rfm_data_scaled = scaler.fit_transform(rfm_data[['dias_sem_vender', 'vendas_por_dia', 'receita_total']])"
   ]
  },
  {
   "cell_type": "code",
   "execution_count": 20,
   "metadata": {},
   "outputs": [],
   "source": [
    "kmeans = KMeans(n_clusters = 3, init='random')"
   ]
  },
  {
   "cell_type": "code",
   "execution_count": 99,
   "metadata": {},
   "outputs": [
    {
     "data": {
      "text/plain": [
       "KMeans(init='random', n_clusters=3)"
      ]
     },
     "execution_count": 99,
     "metadata": {},
     "output_type": "execute_result"
    }
   ],
   "source": [
    "kmeans.fit(rfm_data_scaled)"
   ]
  },
  {
   "cell_type": "code",
   "execution_count": 21,
   "metadata": {},
   "outputs": [],
   "source": [
    "def implement_kmeans(data, n_clusters, random_state):\n",
    "    kmeans = KMeans(n_clusters = 3, init='random')\n",
    "    kmeans.fit(data)\n",
    "    return kmeans.labels_"
   ]
  },
  {
   "cell_type": "code",
   "execution_count": 22,
   "metadata": {},
   "outputs": [],
   "source": [
    "dias_sem_vender = rfm_data_scaled[1:]\n",
    "grupos_dias_sem_vender = implement_kmeans(dias_sem_vender, 3, 1)\n",
    "\n",
    "vendas_por_dia = rfm_data_scaled[2:]\n",
    "grupos_vendas_por_dia = implement_kmeans(vendas_por_dia, 3, 1)\n",
    "\n",
    "receita_total = rfm_data_scaled[3:]\n",
    "grupos_receita_total = implement_kmeans(receita_total, 3, 1)"
   ]
  },
  {
   "cell_type": "code",
   "execution_count": 28,
   "metadata": {},
   "outputs": [],
   "source": [
    "df_rfm_scaled = pd.DataFrame(rfm_data_scaled, columns=['dias_sem_vender_R', 'vendas_por_dia_F', 'receita_total_M'])\n",
    "df_rfm_scaled.index += 1"
   ]
  },
  {
   "cell_type": "code",
   "execution_count": 29,
   "metadata": {},
   "outputs": [
    {
     "data": {
      "text/html": [
       "<div>\n",
       "<style scoped>\n",
       "    .dataframe tbody tr th:only-of-type {\n",
       "        vertical-align: middle;\n",
       "    }\n",
       "\n",
       "    .dataframe tbody tr th {\n",
       "        vertical-align: top;\n",
       "    }\n",
       "\n",
       "    .dataframe thead th {\n",
       "        text-align: right;\n",
       "    }\n",
       "</style>\n",
       "<table border=\"1\" class=\"dataframe\">\n",
       "  <thead>\n",
       "    <tr style=\"text-align: right;\">\n",
       "      <th></th>\n",
       "      <th>dias_sem_vender_R</th>\n",
       "      <th>vendas_por_dia_F</th>\n",
       "      <th>receita_total_M</th>\n",
       "    </tr>\n",
       "  </thead>\n",
       "  <tbody>\n",
       "    <tr>\n",
       "      <th>1</th>\n",
       "      <td>-0.190909</td>\n",
       "      <td>0.666667</td>\n",
       "      <td>0.127491</td>\n",
       "    </tr>\n",
       "    <tr>\n",
       "      <th>2</th>\n",
       "      <td>-0.154545</td>\n",
       "      <td>0.333333</td>\n",
       "      <td>-0.019588</td>\n",
       "    </tr>\n",
       "    <tr>\n",
       "      <th>3</th>\n",
       "      <td>-0.136364</td>\n",
       "      <td>-0.111111</td>\n",
       "      <td>-0.010997</td>\n",
       "    </tr>\n",
       "    <tr>\n",
       "      <th>4</th>\n",
       "      <td>-0.236364</td>\n",
       "      <td>7.111111</td>\n",
       "      <td>2.295876</td>\n",
       "    </tr>\n",
       "    <tr>\n",
       "      <th>5</th>\n",
       "      <td>0.027273</td>\n",
       "      <td>0.222222</td>\n",
       "      <td>0.691753</td>\n",
       "    </tr>\n",
       "  </tbody>\n",
       "</table>\n",
       "</div>"
      ],
      "text/plain": [
       "   dias_sem_vender_R  vendas_por_dia_F  receita_total_M\n",
       "1          -0.190909          0.666667         0.127491\n",
       "2          -0.154545          0.333333        -0.019588\n",
       "3          -0.136364         -0.111111        -0.010997\n",
       "4          -0.236364          7.111111         2.295876\n",
       "5           0.027273          0.222222         0.691753"
      ]
     },
     "execution_count": 29,
     "metadata": {},
     "output_type": "execute_result"
    }
   ],
   "source": [
    "df_rfm_scaled.head()"
   ]
  },
  {
   "cell_type": "code",
   "execution_count": 30,
   "metadata": {},
   "outputs": [
    {
     "data": {
      "text/plain": [
       "dias_sem_vender_R    0\n",
       "vendas_por_dia_F     0\n",
       "receita_total_M      0\n",
       "dtype: int64"
      ]
     },
     "execution_count": 30,
     "metadata": {},
     "output_type": "execute_result"
    }
   ],
   "source": [
    "df_rfm_scaled.isnull().sum()"
   ]
  },
  {
   "cell_type": "code",
   "execution_count": 25,
   "metadata": {},
   "outputs": [
    {
     "data": {
      "text/plain": [
       "(2609, 3)"
      ]
     },
     "execution_count": 25,
     "metadata": {},
     "output_type": "execute_result"
    }
   ],
   "source": [
    "df_rfm_scaled.shape"
   ]
  },
  {
   "cell_type": "code",
   "execution_count": 26,
   "metadata": {},
   "outputs": [
    {
     "data": {
      "text/plain": [
       "2608"
      ]
     },
     "execution_count": 26,
     "metadata": {},
     "output_type": "execute_result"
    }
   ],
   "source": [
    "len(grupos_dias_sem_vender)"
   ]
  },
  {
   "cell_type": "code",
   "execution_count": null,
   "metadata": {},
   "outputs": [],
   "source": [
    "#rfm_data = rfm_data.assign(R = r_labels, F = f_labels, M = m_labels) \n",
    "df_rfm_scaled.assign(R=grupos_dias_sem_vender, F=grupos_vendas_por_dia, M=grupos_receita_total)"
   ]
  },
  {
   "cell_type": "code",
   "execution_count": 27,
   "metadata": {},
   "outputs": [
    {
     "ename": "ValueError",
     "evalue": "Length of values (2608) does not match length of index (2609)",
     "output_type": "error",
     "traceback": [
      "\u001b[1;31m---------------------------------------------------------------------------\u001b[0m",
      "\u001b[1;31mValueError\u001b[0m                                Traceback (most recent call last)",
      "\u001b[1;32m<ipython-input-27-22cceeb51663>\u001b[0m in \u001b[0;36m<module>\u001b[1;34m\u001b[0m\n\u001b[1;32m----> 1\u001b[1;33m \u001b[0mdf_rfm_scaled\u001b[0m\u001b[1;33m[\u001b[0m\u001b[1;34m'grupos_dias_sem_vender'\u001b[0m\u001b[1;33m]\u001b[0m \u001b[1;33m=\u001b[0m \u001b[0mgrupos_dias_sem_vender\u001b[0m\u001b[1;33m\u001b[0m\u001b[1;33m\u001b[0m\u001b[0m\n\u001b[0m\u001b[0;32m      2\u001b[0m \u001b[0mdf_rfm_scaled\u001b[0m\u001b[1;33m[\u001b[0m\u001b[1;34m'grupos_vendas_por_dia'\u001b[0m\u001b[1;33m]\u001b[0m \u001b[1;33m=\u001b[0m \u001b[0mgrupos_vendas_por_dia\u001b[0m\u001b[1;33m\u001b[0m\u001b[1;33m\u001b[0m\u001b[0m\n\u001b[0;32m      3\u001b[0m \u001b[0mdf_rfm_scaled\u001b[0m\u001b[1;33m[\u001b[0m\u001b[1;34m'grupos_receita_total'\u001b[0m\u001b[1;33m]\u001b[0m \u001b[1;33m=\u001b[0m \u001b[0mgrupos_receita_total\u001b[0m\u001b[1;33m\u001b[0m\u001b[1;33m\u001b[0m\u001b[0m\n",
      "\u001b[1;32m~\\anaconda3\\lib\\site-packages\\pandas\\core\\frame.py\u001b[0m in \u001b[0;36m__setitem__\u001b[1;34m(self, key, value)\u001b[0m\n\u001b[0;32m   3038\u001b[0m         \u001b[1;32melse\u001b[0m\u001b[1;33m:\u001b[0m\u001b[1;33m\u001b[0m\u001b[1;33m\u001b[0m\u001b[0m\n\u001b[0;32m   3039\u001b[0m             \u001b[1;31m# set column\u001b[0m\u001b[1;33m\u001b[0m\u001b[1;33m\u001b[0m\u001b[1;33m\u001b[0m\u001b[0m\n\u001b[1;32m-> 3040\u001b[1;33m             \u001b[0mself\u001b[0m\u001b[1;33m.\u001b[0m\u001b[0m_set_item\u001b[0m\u001b[1;33m(\u001b[0m\u001b[0mkey\u001b[0m\u001b[1;33m,\u001b[0m \u001b[0mvalue\u001b[0m\u001b[1;33m)\u001b[0m\u001b[1;33m\u001b[0m\u001b[1;33m\u001b[0m\u001b[0m\n\u001b[0m\u001b[0;32m   3041\u001b[0m \u001b[1;33m\u001b[0m\u001b[0m\n\u001b[0;32m   3042\u001b[0m     \u001b[1;32mdef\u001b[0m \u001b[0m_setitem_slice\u001b[0m\u001b[1;33m(\u001b[0m\u001b[0mself\u001b[0m\u001b[1;33m,\u001b[0m \u001b[0mkey\u001b[0m\u001b[1;33m:\u001b[0m \u001b[0mslice\u001b[0m\u001b[1;33m,\u001b[0m \u001b[0mvalue\u001b[0m\u001b[1;33m)\u001b[0m\u001b[1;33m:\u001b[0m\u001b[1;33m\u001b[0m\u001b[1;33m\u001b[0m\u001b[0m\n",
      "\u001b[1;32m~\\anaconda3\\lib\\site-packages\\pandas\\core\\frame.py\u001b[0m in \u001b[0;36m_set_item\u001b[1;34m(self, key, value)\u001b[0m\n\u001b[0;32m   3114\u001b[0m         \"\"\"\n\u001b[0;32m   3115\u001b[0m         \u001b[0mself\u001b[0m\u001b[1;33m.\u001b[0m\u001b[0m_ensure_valid_index\u001b[0m\u001b[1;33m(\u001b[0m\u001b[0mvalue\u001b[0m\u001b[1;33m)\u001b[0m\u001b[1;33m\u001b[0m\u001b[1;33m\u001b[0m\u001b[0m\n\u001b[1;32m-> 3116\u001b[1;33m         \u001b[0mvalue\u001b[0m \u001b[1;33m=\u001b[0m \u001b[0mself\u001b[0m\u001b[1;33m.\u001b[0m\u001b[0m_sanitize_column\u001b[0m\u001b[1;33m(\u001b[0m\u001b[0mkey\u001b[0m\u001b[1;33m,\u001b[0m \u001b[0mvalue\u001b[0m\u001b[1;33m)\u001b[0m\u001b[1;33m\u001b[0m\u001b[1;33m\u001b[0m\u001b[0m\n\u001b[0m\u001b[0;32m   3117\u001b[0m         \u001b[0mNDFrame\u001b[0m\u001b[1;33m.\u001b[0m\u001b[0m_set_item\u001b[0m\u001b[1;33m(\u001b[0m\u001b[0mself\u001b[0m\u001b[1;33m,\u001b[0m \u001b[0mkey\u001b[0m\u001b[1;33m,\u001b[0m \u001b[0mvalue\u001b[0m\u001b[1;33m)\u001b[0m\u001b[1;33m\u001b[0m\u001b[1;33m\u001b[0m\u001b[0m\n\u001b[0;32m   3118\u001b[0m \u001b[1;33m\u001b[0m\u001b[0m\n",
      "\u001b[1;32m~\\anaconda3\\lib\\site-packages\\pandas\\core\\frame.py\u001b[0m in \u001b[0;36m_sanitize_column\u001b[1;34m(self, key, value, broadcast)\u001b[0m\n\u001b[0;32m   3762\u001b[0m \u001b[1;33m\u001b[0m\u001b[0m\n\u001b[0;32m   3763\u001b[0m             \u001b[1;31m# turn me into an ndarray\u001b[0m\u001b[1;33m\u001b[0m\u001b[1;33m\u001b[0m\u001b[1;33m\u001b[0m\u001b[0m\n\u001b[1;32m-> 3764\u001b[1;33m             \u001b[0mvalue\u001b[0m \u001b[1;33m=\u001b[0m \u001b[0msanitize_index\u001b[0m\u001b[1;33m(\u001b[0m\u001b[0mvalue\u001b[0m\u001b[1;33m,\u001b[0m \u001b[0mself\u001b[0m\u001b[1;33m.\u001b[0m\u001b[0mindex\u001b[0m\u001b[1;33m)\u001b[0m\u001b[1;33m\u001b[0m\u001b[1;33m\u001b[0m\u001b[0m\n\u001b[0m\u001b[0;32m   3765\u001b[0m             \u001b[1;32mif\u001b[0m \u001b[1;32mnot\u001b[0m \u001b[0misinstance\u001b[0m\u001b[1;33m(\u001b[0m\u001b[0mvalue\u001b[0m\u001b[1;33m,\u001b[0m \u001b[1;33m(\u001b[0m\u001b[0mnp\u001b[0m\u001b[1;33m.\u001b[0m\u001b[0mndarray\u001b[0m\u001b[1;33m,\u001b[0m \u001b[0mIndex\u001b[0m\u001b[1;33m)\u001b[0m\u001b[1;33m)\u001b[0m\u001b[1;33m:\u001b[0m\u001b[1;33m\u001b[0m\u001b[1;33m\u001b[0m\u001b[0m\n\u001b[0;32m   3766\u001b[0m                 \u001b[1;32mif\u001b[0m \u001b[0misinstance\u001b[0m\u001b[1;33m(\u001b[0m\u001b[0mvalue\u001b[0m\u001b[1;33m,\u001b[0m \u001b[0mlist\u001b[0m\u001b[1;33m)\u001b[0m \u001b[1;32mand\u001b[0m \u001b[0mlen\u001b[0m\u001b[1;33m(\u001b[0m\u001b[0mvalue\u001b[0m\u001b[1;33m)\u001b[0m \u001b[1;33m>\u001b[0m \u001b[1;36m0\u001b[0m\u001b[1;33m:\u001b[0m\u001b[1;33m\u001b[0m\u001b[1;33m\u001b[0m\u001b[0m\n",
      "\u001b[1;32m~\\anaconda3\\lib\\site-packages\\pandas\\core\\internals\\construction.py\u001b[0m in \u001b[0;36msanitize_index\u001b[1;34m(data, index)\u001b[0m\n\u001b[0;32m    745\u001b[0m     \"\"\"\n\u001b[0;32m    746\u001b[0m     \u001b[1;32mif\u001b[0m \u001b[0mlen\u001b[0m\u001b[1;33m(\u001b[0m\u001b[0mdata\u001b[0m\u001b[1;33m)\u001b[0m \u001b[1;33m!=\u001b[0m \u001b[0mlen\u001b[0m\u001b[1;33m(\u001b[0m\u001b[0mindex\u001b[0m\u001b[1;33m)\u001b[0m\u001b[1;33m:\u001b[0m\u001b[1;33m\u001b[0m\u001b[1;33m\u001b[0m\u001b[0m\n\u001b[1;32m--> 747\u001b[1;33m         raise ValueError(\n\u001b[0m\u001b[0;32m    748\u001b[0m             \u001b[1;34m\"Length of values \"\u001b[0m\u001b[1;33m\u001b[0m\u001b[1;33m\u001b[0m\u001b[0m\n\u001b[0;32m    749\u001b[0m             \u001b[1;34mf\"({len(data)}) \"\u001b[0m\u001b[1;33m\u001b[0m\u001b[1;33m\u001b[0m\u001b[0m\n",
      "\u001b[1;31mValueError\u001b[0m: Length of values (2608) does not match length of index (2609)"
     ]
    }
   ],
   "source": [
    "df_rfm_scaled['grupos_dias_sem_vender'] = grupos_dias_sem_vender\n",
    "df_rfm_scaled['grupos_vendas_por_dia'] = grupos_vendas_por_dia\n",
    "df_rfm_scaled['grupos_receita_total'] = grupos_receita_total"
   ]
  },
  {
   "cell_type": "code",
   "execution_count": null,
   "metadata": {},
   "outputs": [],
   "source": []
  }
 ],
 "metadata": {
  "kernelspec": {
   "display_name": "Python 3",
   "language": "python",
   "name": "python3"
  },
  "language_info": {
   "codemirror_mode": {
    "name": "ipython",
    "version": 3
   },
   "file_extension": ".py",
   "mimetype": "text/x-python",
   "name": "python",
   "nbconvert_exporter": "python",
   "pygments_lexer": "ipython3",
   "version": "3.8.5"
  }
 },
 "nbformat": 4,
 "nbformat_minor": 4
}
